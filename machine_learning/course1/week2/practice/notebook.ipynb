{
 "cells": [
  {
   "cell_type": "markdown",
   "metadata": {},
   "source": [
    "# Week 2\n"
   ]
  },
  {
   "cell_type": "code",
   "execution_count": 2,
   "metadata": {},
   "outputs": [],
   "source": [
    "# Importing the libraries\n",
    "import numpy as np\n",
    "import matplotlib.pyplot as plt\n",
    "from utils.regression import compute_cost, compute_regression, gradient_descent\n",
    "\n",
    "plt.style.use(\"../../../../styles/deeplearning.mplstyle\")"
   ]
  },
  {
   "cell_type": "markdown",
   "metadata": {},
   "source": [
    "## Linear Regression with multiple variables\n"
   ]
  },
  {
   "cell_type": "markdown",
   "metadata": {},
   "source": [
    "Equations\n",
    "\n",
    "$$\n",
    "f_{\\vec{w},b}(\\vec{x}) = \\vec{w} \\cdot \\vec{x} + b\n",
    "$$\n",
    "\n",
    "$$\n",
    "f_{\\vec{w},b}(\\vec{x}) = (w_1x_1 + w_2x_2 + w_3x_3 + w_4x_4 + w_5x_5 \\,\\, ... \\,\\, w_nx_n) + b\n",
    "$$\n",
    "\n",
    "$$\n",
    "f_{\\vec{w},b}(\\vec{x}) = (\\sum \\limits_{j=1}^{n} w_jx_j) + b\n",
    "$$\n",
    "\n",
    "where,\n",
    "\n",
    "- $n = \\text{number of features}$\n",
    "- $\\vec{x}^{(i)} = \\text{features of } i^{th} \\text{ training example}$\n"
   ]
  },
  {
   "cell_type": "code",
   "execution_count": 6,
   "metadata": {},
   "outputs": [
    {
     "name": "stdout",
     "output_type": "stream",
     "text": [
      "-35.0\n"
     ]
    }
   ],
   "source": [
    "w = np.array([1.0, 2.5, -3.3])\n",
    "x = np.array([10, 20, 30])\n",
    "b = 4.0\n",
    "\n",
    "f = np.dot(w, x) + b\n",
    "print(f)"
   ]
  },
  {
   "cell_type": "markdown",
   "metadata": {},
   "source": [
    "## Cost function\n"
   ]
  },
  {
   "cell_type": "markdown",
   "metadata": {},
   "source": [
    "Equations\n",
    "\n",
    "$$\n",
    "J(\\vec{w}, b) = \\frac{1}{2m} \\sum \\limits_{i=1}^{m} (f_{\\vec{w},b}(\\vec{x}^{(i)}) - y^{(i)})^2\n",
    "$$\n",
    "\n",
    "where,\n",
    "\n",
    "- $m = \\text{number of training examples}$\n",
    "- $f_{\\vec{w},b}(\\vec{x}^{(i)}) = \\vec{w} \\cdot \\vec{x}^{(i)} + b$\n",
    "- $y^{(i)} = \\text{target value}$\n"
   ]
  },
  {
   "cell_type": "markdown",
   "metadata": {},
   "source": [
    "## Gradient Descent\n"
   ]
  },
  {
   "cell_type": "markdown",
   "metadata": {},
   "source": [
    "Equations\n",
    "\n",
    "$$\n",
    "w_j = w_j - \\alpha \\frac{\\partial J(\\vec{w}, b)}{\\partial w_j}\n",
    "$$\n",
    "\n",
    "$$\n",
    "b = b - \\alpha \\frac{\\partial J(\\vec{w}, b)}{\\partial b}\n",
    "$$\n",
    "\n",
    "$$\n",
    "\\frac{\\partial J(\\vec{w}, b)}{\\partial w_j} = \\frac{1}{m} \\sum \\limits_{i=1}^{m} (f_{\\vec{w},b}(\\vec{x}^{(i)}) - y^{(i)})x_j^{(i)}\n",
    "$$\n",
    "\n",
    "$$\n",
    "\\frac{\\partial J(\\vec{w}, b)}{\\partial b} = \\frac{1}{m} \\sum \\limits_{i=1}^{m} (f_{\\vec{w},b}(\\vec{x}^{(i)}) - y^{(i)})\n",
    "$$\n",
    "\n",
    "Therefore,\n",
    "\n",
    "$\\text{repeat: } \\{$\n",
    "\n",
    "$$\n",
    "w_j = w_j - \\alpha \\frac{1}{m} \\sum \\limits_{i=1}^{m} (f_{\\vec{w},b}(\\vec{x}^{(i)}) - y^{(i)})x_j^{(i)}\n",
    "$$\n",
    "\n",
    "$$\n",
    "b = b - \\alpha \\frac{1}{m} \\sum \\limits_{i=1}^{m} (f_{\\vec{w},b}(\\vec{x}^{(i)}) - y^{(i)})\n",
    "$$\n",
    "\n",
    "$\\}$\n"
   ]
  }
 ],
 "metadata": {
  "kernelspec": {
   "display_name": "venv",
   "language": "python",
   "name": "python3"
  },
  "language_info": {
   "codemirror_mode": {
    "name": "ipython",
    "version": 3
   },
   "file_extension": ".py",
   "mimetype": "text/x-python",
   "name": "python",
   "nbconvert_exporter": "python",
   "pygments_lexer": "ipython3",
   "version": "3.10.10"
  }
 },
 "nbformat": 4,
 "nbformat_minor": 2
}
